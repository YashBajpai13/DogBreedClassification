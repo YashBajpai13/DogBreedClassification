{
 "cells": [
  {
   "cell_type": "markdown",
   "id": "bea09350-d82d-4801-9ab4-f2c351b3a52e",
   "metadata": {},
   "source": [
    "# Streamlit"
   ]
  },
  {
   "cell_type": "code",
   "execution_count": 4,
   "id": "21a8aba8-ab8a-45da-9888-8c22d0d0b160",
   "metadata": {},
   "outputs": [],
   "source": [
    "import streamlit as st\n",
    "import tensorflow as tf\n",
    "from PIL import Image\n",
    "import numpy as np\n",
    "import re"
   ]
  },
  {
   "cell_type": "code",
   "execution_count": 2,
   "id": "0eca8735-435d-49b8-b563-a3e7d6e38a56",
   "metadata": {},
   "outputs": [
    {
     "name": "stdout",
     "output_type": "stream",
     "text": [
      "WARNING:tensorflow:From C:\\Users\\yashb\\AppData\\Local\\Programs\\Python\\Python311\\Lib\\site-packages\\keras\\src\\saving\\legacy\\saved_model\\load.py:107: The name tf.gfile.Exists is deprecated. Please use tf.io.gfile.exists instead.\n",
      "\n",
      "WARNING:tensorflow:From C:\\Users\\yashb\\AppData\\Local\\Programs\\Python\\Python311\\Lib\\site-packages\\keras\\src\\engine\\functional.py:156: The name tf.executing_eagerly_outside_functions is deprecated. Please use tf.compat.v1.executing_eagerly_outside_functions instead.\n",
      "\n",
      "WARNING:tensorflow:From C:\\Users\\yashb\\AppData\\Local\\Programs\\Python\\Python311\\Lib\\site-packages\\keras\\src\\layers\\normalization\\batch_normalization.py:979: The name tf.nn.fused_batch_norm is deprecated. Please use tf.compat.v1.nn.fused_batch_norm instead.\n",
      "\n"
     ]
    }
   ],
   "source": [
    "model = tf.keras.models.load_model(\"effnet_saved_model\")"
   ]
  },
  {
   "cell_type": "code",
   "execution_count": 3,
   "id": "caef7e9b-e7fe-4d4c-b220-52e87e65fd68",
   "metadata": {},
   "outputs": [],
   "source": [
    "class_names = ['n02085620-Chihuahua','n02085782-Japanese_spaniel','n02085936-Maltese_dog','n02086079-Pekinese','n02086240-Shih-Tzu', \n",
    "               'n02086646-Blenheim_spaniel', 'n02086910-papillon', 'n02087046-toy_terrier', 'n02087394-Rhodesian_ridgeback',\n",
    " 'n02088094-Afghan_hound', 'n02088238-basset', 'n02088364-beagle', 'n02088466-bloodhound', 'n02088632-bluetick', 'n02089078-black-and-tan_coonhound',\n",
    " 'n02089867-Walker_hound', 'n02089973-English_foxhound', 'n02090379-redbone', 'n02090622-borzoi', 'n02090721-Irish_wolfhound', 'n02091032-Italian_greyhound',\n",
    " 'n02091134-whippet', 'n02091244-Ibizan_hound', 'n02091467-Norwegian_elkhound', 'n02091635-otterhound', 'n02091831-Saluki', 'n02092002-Scottish_deerhound',\n",
    " 'n02092339-Weimaraner', 'n02093256-Staffordshire_bullterrier', 'n02093428-American_Staffordshire_terrier', 'n02093647-Bedlington_terrier',\n",
    " 'n02093754-Border_terrier', 'n02093859-Kerry_blue_terrier', 'n02093991-Irish_terrier', 'n02094114-Norfolk_terrier','n02094258-Norwich_terrier','n02094433-Yorkshire_terrier',\n",
    " 'n02095314-wire-haired_fox_terrier', 'n02095570-Lakeland_terrier', 'n02095889-Sealyham_terrier', 'n02096051-Airedale', 'n02096177-cairn',\n",
    " 'n02096294-Australian_terrier', 'n02096437-Dandie_Dinmont', 'n02096585-Boston_bull', 'n02097047-miniature_schnauzer', 'n02097130-giant_schnauzer',\n",
    " 'n02097209-standard_schnauzer', 'n02097298-Scotch_terrier', 'n02097474-Tibetan_terrier', 'n02097658-silky_terrier', 'n02098105-soft-coated_wheaten_terrier',\n",
    " 'n02098286-West_Highland_white_terrier', 'n02098413-Lhasa', 'n02099267-flat-coated_retriever', 'n02099429-curly-coated_retriever',\n",
    " 'n02099601-golden_retriever', 'n02099712-Labrador_retriever', 'n02099849-Chesapeake_Bay_retriever', 'n02100236-German_short-haired_pointer', 'n02100583-vizsla',\n",
    " 'n02100735-English_setter', 'n02100877-Irish_setter', 'n02101006-Gordon_setter', 'n02101388-Brittany_spaniel', 'n02101556-clumber',\n",
    " 'n02102040-English_springer', 'n02102177-Welsh_springer_spaniel', 'n02102318-cocker_spaniel', 'n02102480-Sussex_spaniel', 'n02102973-Irish_water_spaniel',\n",
    " 'n02104029-kuvasz', 'n02104365-schipperke', 'n02105056-groenendael','n02105162-malinois',\n",
    " 'n02105251-briard', 'n02105412-kelpie', 'n02105505-komondor', 'n02105641-Old_English_sheepdog', 'n02105855-Shetland_sheepdog', 'n02106030-collie',\n",
    " 'n02106166-Border_collie', 'n02106382-Bouvier_des_Flandres', 'n02106550-Rottweiler', 'n02106662-German_shepherd', 'n02107142-Doberman',\n",
    " 'n02107312-miniature_pinscher', 'n02107574-Greater_Swiss_Mountain_dog', 'n02107683-Bernese_mountain_dog', 'n02107908-Appenzeller', 'n02108000-EntleBucher', 'n02108089-boxer',\n",
    " 'n02108422-bull_mastiff', 'n02108551-Tibetan_mastiff', 'n02108915-French_bulldog', 'n02109047-Great_Dane', 'n02109525-Saint_Bernard', 'n02109961-Eskimo_dog',\n",
    " 'n02110063-malamute', 'n02110185-Siberian_husky','n02110627-affenpinscher', 'n02110806-basenji', 'n02110958-pug',\n",
    " 'n02111129-Leonberg', 'n02111277-Newfoundland', 'n02111500-Great_Pyrenees', 'n02111889-Samoyed', 'n02112018-Pomeranian', 'n02112137-chow',\n",
    " 'n02112350-keeshond', 'n02112706-Brabancon_griffon', 'n02113023-Pembroke', 'n02113186-Cardigan', 'n02113624-toy_poodle', 'n02113712-miniature_poodle',\n",
    " 'n02113799-standard_poodle', 'n02113978-Mexican_hairless', 'n02115641-dingo', 'n02115913-dhole', 'n02116738-African_hunting_dog']"
   ]
  },
  {
   "cell_type": "code",
   "execution_count": 5,
   "id": "73d99603-484e-4902-a80b-64f7ad562efc",
   "metadata": {},
   "outputs": [],
   "source": [
    "for x in range(len(class_names)):\n",
    "    class_names[x] = re.sub(\"n[0-9]+-\", '', class_names[x])"
   ]
  },
  {
   "cell_type": "code",
   "execution_count": null,
   "id": "6df19744-e4f6-4424-9826-54bf46d07b40",
   "metadata": {},
   "outputs": [],
   "source": [
    "def predict_breed(input_data):\n",
    "    model.predict()"
   ]
  },
  {
   "cell_type": "code",
   "execution_count": null,
   "id": "765ff6d4-55a4-45d9-ad7b-f85651712342",
   "metadata": {},
   "outputs": [],
   "source": []
  },
  {
   "cell_type": "code",
   "execution_count": null,
   "id": "dd8571ac-d63b-4831-8375-6d0be1b93e4a",
   "metadata": {},
   "outputs": [],
   "source": []
  },
  {
   "cell_type": "markdown",
   "id": "0722a324-7e6f-4e22-9d93-7acb4f15bceb",
   "metadata": {},
   "source": [
    "# Streamlit script"
   ]
  },
  {
   "cell_type": "code",
   "execution_count": null,
   "id": "971cf145-746f-45e1-84d4-79393f821395",
   "metadata": {},
   "outputs": [],
   "source": [
    "import streamlit as st\n",
    "import tensorflow as tf\n",
    "import cv2\n",
    "from PIL import Image, ImageOps\n",
    "import numpy as np\n",
    "\n",
    "\n",
    "st.set_option('deprecation.showfileUploaderEncoding', False)\n",
    "\n",
    "@st.cache(allow_output_mutation=True)\n",
    "def load_model():\n",
    "    \"\"\"\n",
    "    Loads trained model\n",
    "    \"\"\"\n",
    "    model = tf.keras.modes.load_model(\"effnet_saved_model\")\n",
    "    return model\n",
    "\n",
    "model = load_model()\n",
    "\n",
    "st.write(\"\"\"\n",
    "        Dog Breed Classifier\n",
    "        \"\"\")\n",
    "\n",
    "file = st.file_uploader(\"Upload an image of a dog\", type = ['jpg', 'png'])\n",
    "\n"
   ]
  }
 ],
 "metadata": {
  "kernelspec": {
   "display_name": "Python 3 (ipykernel)",
   "language": "python",
   "name": "python3"
  },
  "language_info": {
   "codemirror_mode": {
    "name": "ipython",
    "version": 3
   },
   "file_extension": ".py",
   "mimetype": "text/x-python",
   "name": "python",
   "nbconvert_exporter": "python",
   "pygments_lexer": "ipython3",
   "version": "3.11.0"
  }
 },
 "nbformat": 4,
 "nbformat_minor": 5
}
